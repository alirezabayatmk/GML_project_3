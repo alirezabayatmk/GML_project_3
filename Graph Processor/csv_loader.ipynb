{
 "cells": [
  {
   "cell_type": "code",
   "execution_count": 17,
   "id": "f5f858a6-0882-4395-9cc6-b8fa1bcf6403",
   "metadata": {},
   "outputs": [
    {
     "data": {
      "text/plain": [
       "(9877, 25998, None)"
      ]
     },
     "execution_count": 17,
     "metadata": {},
     "output_type": "execute_result"
    }
   ],
   "source": [
    "import csv\n",
    "import pandas as pd\n",
    "import networkx as nx\n",
    "\n",
    "path_df = \"/home/shady/Projects/GML/Project_3/datasets/CA-HepTh.txt\"\n",
    "\n",
    "\n",
    "def text_to_zeroed_csv(path):\n",
    "    dataset_name = str(path.split('/')[-1]).replace('.txt','')\n",
    "    \n",
    "    df = pd.read_csv(path, skiprows=3, delimiter='\\t')\n",
    "    df = df.rename(columns={'# FromNodeId':'From','ToNodeId':'To'})\n",
    "    \n",
    "    G = nx.from_pandas_edgelist(df,'From','To')\n",
    "    nodes = G.number_of_nodes()\n",
    "    edges = G.number_of_edges()\n",
    "    \n",
    "    from_list = list(df['From'].unique())\n",
    "    to_list = list(df['To'].unique())\n",
    "    node_ids = list(set(list(from_list + to_list)))\n",
    "\n",
    "    node_ids.sort()\n",
    "    \n",
    "    d = {}\n",
    "    for value, index in enumerate(node_ids):\n",
    "        d[index] = value\n",
    "        \n",
    "    df['From'] = df['From'].map(d)\n",
    "    df['To'] = df['To'].map(d)\n",
    "    \n",
    "    return(nodes, edges, df.to_csv('{}(corrected_index).csv'.format(dataset_name), index=False))\n",
    "    \n",
    "text_to_zeroed_csv(path_df)"
   ]
  },
  {
   "cell_type": "markdown",
   "id": "153d9f80-d85b-4046-8441-089452e3f4b0",
   "metadata": {
    "jp-MarkdownHeadingCollapsed": true,
    "tags": []
   },
   "source": [
    "# previous code"
   ]
  },
  {
   "cell_type": "code",
   "execution_count": 1,
   "id": "5d04fbb5-0ae0-4712-8004-654d95fdfb64",
   "metadata": {},
   "outputs": [],
   "source": [
    "import csv\n",
    "import pandas as pd\n",
    "\n",
    "path = \"/home/shady/Projects/GML/Project_3/datasets/CA-HepTh.txt\"\n",
    "    \n",
    "df = pd.read_csv(path, skiprows=3, delimiter='\\t')\n",
    "df = df.rename(columns={'# FromNodeId':'From','ToNodeId':'To'})"
   ]
  },
  {
   "cell_type": "code",
   "execution_count": 2,
   "id": "815502c2-211b-4511-ba69-dc55e9e4a6cc",
   "metadata": {},
   "outputs": [
    {
     "data": {
      "text/plain": [
       "Index(['From', 'To'], dtype='object')"
      ]
     },
     "execution_count": 2,
     "metadata": {},
     "output_type": "execute_result"
    }
   ],
   "source": [
    "df.columns"
   ]
  },
  {
   "cell_type": "code",
   "execution_count": 6,
   "id": "b227adc7-93e3-40f9-a145-e822153930c7",
   "metadata": {},
   "outputs": [
    {
     "name": "stdout",
     "output_type": "stream",
     "text": [
      "9877\n",
      "25998\n"
     ]
    }
   ],
   "source": [
    "import networkx as nx\n",
    "\n",
    "# Graphtype = nx.Graph()\n",
    "G = nx.from_pandas_edgelist(df,'From','To')\n",
    "print(G.number_of_nodes())\n",
    "print(G.number_of_edges())"
   ]
  },
  {
   "cell_type": "code",
   "execution_count": 4,
   "id": "825290cc-a7a7-4334-bb2a-ce373adefbd7",
   "metadata": {},
   "outputs": [
    {
     "data": {
      "text/html": [
       "<div>\n",
       "<style scoped>\n",
       "    .dataframe tbody tr th:only-of-type {\n",
       "        vertical-align: middle;\n",
       "    }\n",
       "\n",
       "    .dataframe tbody tr th {\n",
       "        vertical-align: top;\n",
       "    }\n",
       "\n",
       "    .dataframe thead th {\n",
       "        text-align: right;\n",
       "    }\n",
       "</style>\n",
       "<table border=\"1\" class=\"dataframe\">\n",
       "  <thead>\n",
       "    <tr style=\"text-align: right;\">\n",
       "      <th></th>\n",
       "      <th>From</th>\n",
       "      <th>To</th>\n",
       "    </tr>\n",
       "  </thead>\n",
       "  <tbody>\n",
       "    <tr>\n",
       "      <th>0</th>\n",
       "      <td>24325</td>\n",
       "      <td>24394</td>\n",
       "    </tr>\n",
       "    <tr>\n",
       "      <th>1</th>\n",
       "      <td>24325</td>\n",
       "      <td>40517</td>\n",
       "    </tr>\n",
       "    <tr>\n",
       "      <th>2</th>\n",
       "      <td>24325</td>\n",
       "      <td>58507</td>\n",
       "    </tr>\n",
       "    <tr>\n",
       "      <th>3</th>\n",
       "      <td>24394</td>\n",
       "      <td>3737</td>\n",
       "    </tr>\n",
       "    <tr>\n",
       "      <th>4</th>\n",
       "      <td>24394</td>\n",
       "      <td>3905</td>\n",
       "    </tr>\n",
       "    <tr>\n",
       "      <th>...</th>\n",
       "      <td>...</td>\n",
       "      <td>...</td>\n",
       "    </tr>\n",
       "    <tr>\n",
       "      <th>51966</th>\n",
       "      <td>62046</td>\n",
       "      <td>64033</td>\n",
       "    </tr>\n",
       "    <tr>\n",
       "      <th>51967</th>\n",
       "      <td>13552</td>\n",
       "      <td>20200</td>\n",
       "    </tr>\n",
       "    <tr>\n",
       "      <th>51968</th>\n",
       "      <td>13552</td>\n",
       "      <td>39176</td>\n",
       "    </tr>\n",
       "    <tr>\n",
       "      <th>51969</th>\n",
       "      <td>20200</td>\n",
       "      <td>13552</td>\n",
       "    </tr>\n",
       "    <tr>\n",
       "      <th>51970</th>\n",
       "      <td>20200</td>\n",
       "      <td>39176</td>\n",
       "    </tr>\n",
       "  </tbody>\n",
       "</table>\n",
       "<p>51971 rows × 2 columns</p>\n",
       "</div>"
      ],
      "text/plain": [
       "        From     To\n",
       "0      24325  24394\n",
       "1      24325  40517\n",
       "2      24325  58507\n",
       "3      24394   3737\n",
       "4      24394   3905\n",
       "...      ...    ...\n",
       "51966  62046  64033\n",
       "51967  13552  20200\n",
       "51968  13552  39176\n",
       "51969  20200  13552\n",
       "51970  20200  39176\n",
       "\n",
       "[51971 rows x 2 columns]"
      ]
     },
     "execution_count": 4,
     "metadata": {},
     "output_type": "execute_result"
    }
   ],
   "source": [
    "df"
   ]
  },
  {
   "cell_type": "code",
   "execution_count": 7,
   "id": "fcd022b7-8c2f-481e-b22f-ab91dc1604b7",
   "metadata": {},
   "outputs": [],
   "source": [
    "from_list = list(df['From'].unique())\n",
    "to_list = list(df['To'].unique())"
   ]
  },
  {
   "cell_type": "code",
   "execution_count": 8,
   "id": "2eac806d-8450-49d8-a311-fa94a6c47330",
   "metadata": {},
   "outputs": [],
   "source": [
    "node_ids = list(set(list(from_list + to_list)))"
   ]
  },
  {
   "cell_type": "code",
   "execution_count": 9,
   "id": "9b295c05-8756-4e7e-a631-934a64abff2f",
   "metadata": {},
   "outputs": [],
   "source": [
    "node_ids.sort()"
   ]
  },
  {
   "cell_type": "code",
   "execution_count": 10,
   "id": "393704f6-1510-4757-88ba-8e405de7f262",
   "metadata": {},
   "outputs": [],
   "source": [
    "d = {}\n",
    "for value, index in enumerate(node_ids):\n",
    "    d[index] = value"
   ]
  },
  {
   "cell_type": "code",
   "execution_count": 11,
   "id": "7eadecc3-8429-4566-aa06-6c2703416aa2",
   "metadata": {},
   "outputs": [
    {
     "data": {
      "text/html": [
       "<div>\n",
       "<style scoped>\n",
       "    .dataframe tbody tr th:only-of-type {\n",
       "        vertical-align: middle;\n",
       "    }\n",
       "\n",
       "    .dataframe tbody tr th {\n",
       "        vertical-align: top;\n",
       "    }\n",
       "\n",
       "    .dataframe thead th {\n",
       "        text-align: right;\n",
       "    }\n",
       "</style>\n",
       "<table border=\"1\" class=\"dataframe\">\n",
       "  <thead>\n",
       "    <tr style=\"text-align: right;\">\n",
       "      <th></th>\n",
       "      <th>From</th>\n",
       "      <th>To</th>\n",
       "    </tr>\n",
       "  </thead>\n",
       "  <tbody>\n",
       "    <tr>\n",
       "      <th>0</th>\n",
       "      <td>3521</td>\n",
       "      <td>3524</td>\n",
       "    </tr>\n",
       "    <tr>\n",
       "      <th>1</th>\n",
       "      <td>3521</td>\n",
       "      <td>5739</td>\n",
       "    </tr>\n",
       "    <tr>\n",
       "      <th>2</th>\n",
       "      <td>3521</td>\n",
       "      <td>8396</td>\n",
       "    </tr>\n",
       "    <tr>\n",
       "      <th>3</th>\n",
       "      <td>3524</td>\n",
       "      <td>522</td>\n",
       "    </tr>\n",
       "    <tr>\n",
       "      <th>4</th>\n",
       "      <td>3524</td>\n",
       "      <td>549</td>\n",
       "    </tr>\n",
       "    <tr>\n",
       "      <th>...</th>\n",
       "      <td>...</td>\n",
       "      <td>...</td>\n",
       "    </tr>\n",
       "    <tr>\n",
       "      <th>51966</th>\n",
       "      <td>8919</td>\n",
       "      <td>9199</td>\n",
       "    </tr>\n",
       "    <tr>\n",
       "      <th>51967</th>\n",
       "      <td>2020</td>\n",
       "      <td>2871</td>\n",
       "    </tr>\n",
       "    <tr>\n",
       "      <th>51968</th>\n",
       "      <td>2020</td>\n",
       "      <td>5504</td>\n",
       "    </tr>\n",
       "    <tr>\n",
       "      <th>51969</th>\n",
       "      <td>2871</td>\n",
       "      <td>2020</td>\n",
       "    </tr>\n",
       "    <tr>\n",
       "      <th>51970</th>\n",
       "      <td>2871</td>\n",
       "      <td>5504</td>\n",
       "    </tr>\n",
       "  </tbody>\n",
       "</table>\n",
       "<p>51971 rows × 2 columns</p>\n",
       "</div>"
      ],
      "text/plain": [
       "       From    To\n",
       "0      3521  3524\n",
       "1      3521  5739\n",
       "2      3521  8396\n",
       "3      3524   522\n",
       "4      3524   549\n",
       "...     ...   ...\n",
       "51966  8919  9199\n",
       "51967  2020  2871\n",
       "51968  2020  5504\n",
       "51969  2871  2020\n",
       "51970  2871  5504\n",
       "\n",
       "[51971 rows x 2 columns]"
      ]
     },
     "execution_count": 11,
     "metadata": {},
     "output_type": "execute_result"
    }
   ],
   "source": [
    "df['From'] = df['From'].map(d)\n",
    "df['To'] = df['To'].map(d)\n",
    "df"
   ]
  },
  {
   "cell_type": "code",
   "execution_count": 12,
   "id": "a182eace-f9ca-498f-b4fc-5eebe5bab585",
   "metadata": {},
   "outputs": [],
   "source": [
    "df.to_csv('CA-HepTh(corrected_index).csv', index=False)"
   ]
  },
  {
   "cell_type": "code",
   "execution_count": null,
   "id": "efbca36c-2a4e-4883-876f-9e16b4dca809",
   "metadata": {},
   "outputs": [],
   "source": [
    "text_to_zeroed_csv"
   ]
  }
 ],
 "metadata": {
  "kernelspec": {
   "display_name": "Python [conda env:GML]",
   "language": "python",
   "name": "conda-env-GML-py"
  },
  "language_info": {
   "codemirror_mode": {
    "name": "ipython",
    "version": 3
   },
   "file_extension": ".py",
   "mimetype": "text/x-python",
   "name": "python",
   "nbconvert_exporter": "python",
   "pygments_lexer": "ipython3",
   "version": "3.9.5"
  }
 },
 "nbformat": 4,
 "nbformat_minor": 5
}
